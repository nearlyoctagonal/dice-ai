{
 "cells": [
  {
   "cell_type": "markdown",
   "metadata": {},
   "source": [
    "# Dice AI"
   ]
  },
  {
   "cell_type": "markdown",
   "metadata": {},
   "source": [
    "The goal of this project is to play the game Kniffel as optimally as possible. Since Kniffel is a game of chance, this means calculating the expectation value of the final score for different choices, and then choosing the option with the best outcome."
   ]
  },
  {
   "cell_type": "markdown",
   "metadata": {},
   "source": [
    "There are two types of choices to be made in Kniffel. The first is the choice of dice to reroll, which happens twice during the turn. We will call this the microdecision. It is a short term consideration of which dice rolls can be achieved, and how to maximize the probability of a desired result. The other type of choice is called the macrodecision. It is the long term consideration of which results should be aimed for to maximize the final score. This comes into play at different times, firstly to inform the microdecisions and secondly to choose which field on the score card to fill in at the end of a turn."
   ]
  },
  {
   "cell_type": "markdown",
   "metadata": {},
   "source": [
    "## Microdecision"
   ]
  },
  {
   "cell_type": "markdown",
   "metadata": {},
   "source": [
    "The microdecision is the simpler part of the program. All that needs to be done here is to calculate the highest possible probability of a dice result at the end of the turn and the associated choice of dice to reroll. The probability can then be multiplied with the expectation value given by the macrodecision for that dice result, and the best option chosen."
   ]
  },
  {
   "cell_type": "markdown",
   "metadata": {},
   "source": [
    "## Macrodecision"
   ]
  },
  {
   "cell_type": "markdown",
   "metadata": {},
   "source": [
    "The macrodecision depends on the current state of the score card and on the result of the last dice roll. The goal here is to calculate the expectation value of the final score, given that a certain option on the score card is chosen. This is somewhat complex, as it depends on the strategy used during future turns. As a simplification, we will not consider the possibility of reconsidering which result to go for during a future turn. Instead, we will use the probabilities of achieving a certain result when going for it from the beginning of the turn."
   ]
  }
 ],
 "metadata": {
  "kernelspec": {
   "display_name": "Python 3",
   "language": "python",
   "name": "python3"
  },
  "language_info": {
   "codemirror_mode": {
    "name": "ipython",
    "version": 3
   },
   "file_extension": ".py",
   "mimetype": "text/x-python",
   "name": "python",
   "nbconvert_exporter": "python",
   "pygments_lexer": "ipython3",
   "version": "3.8.3"
  }
 },
 "nbformat": 4,
 "nbformat_minor": 4
}
